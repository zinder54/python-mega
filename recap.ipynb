{
 "cells": [
  {
   "cell_type": "code",
   "execution_count": 5,
   "metadata": {},
   "outputs": [
    {
     "name": "stdout",
     "output_type": "stream",
     "text": [
      "enter a number between 1 & 3:1\n",
      "woop\n"
     ]
    }
   ],
   "source": [
    "def foo(num):\n",
    "    if num == 1:\n",
    "        return \"woop\"\n",
    "    elif num == 2:\n",
    "        return \"close\"\n",
    "    else:\n",
    "        return \"no good\"\n",
    "\n",
    "num = int(input(\"enter a number between 1 & 3:\" ))\n",
    "\n",
    "print(foo(num))\n",
    "\n",
    "        "
   ]
  },
  {
   "cell_type": "code",
   "execution_count": 11,
   "metadata": {},
   "outputs": [
    {
     "name": "stdout",
     "output_type": "stream",
     "text": [
      "what is your name? \n",
      "alex\n",
      "erm try again\n",
      "what is your name? \n",
      "alex brown\n",
      "big up yaself\n"
     ]
    }
   ],
   "source": [
    "while True:\n",
    "    print(\"what is your name? \")\n",
    "    name = input()\n",
    "    if name == \"alex brown\":\n",
    "        break\n",
    "    else:\n",
    "        print(\"erm try again\")\n",
    "        \n",
    "print(\"big up yaself\")"
   ]
  },
  {
   "cell_type": "code",
   "execution_count": 10,
   "metadata": {},
   "outputs": [
    {
     "name": "stdout",
     "output_type": "stream",
     "text": [
      "enter a number between 1 & 5: 3\n",
      "ha got emmmm!\n"
     ]
    }
   ],
   "source": [
    "while True:\n",
    "    number = input(\"enter a number between 1 & 5: \")\n",
    "    if number == 1:\n",
    "        print(\"ha got emmm\")\n",
    "    else:\n",
    "        print(\"ohh so close\")\n",
    "    break\n",
    "    \n"
   ]
  },
  {
   "cell_type": "code",
   "execution_count": null,
   "metadata": {},
   "outputs": [],
   "source": []
  },
  {
   "cell_type": "code",
   "execution_count": null,
   "metadata": {},
   "outputs": [],
   "source": []
  }
 ],
 "metadata": {
  "kernelspec": {
   "display_name": "Python 3",
   "language": "python",
   "name": "python3"
  },
  "language_info": {
   "codemirror_mode": {
    "name": "ipython",
    "version": 3
   },
   "file_extension": ".py",
   "mimetype": "text/x-python",
   "name": "python",
   "nbconvert_exporter": "python",
   "pygments_lexer": "ipython3",
   "version": "3.8.0"
  }
 },
 "nbformat": 4,
 "nbformat_minor": 4
}
