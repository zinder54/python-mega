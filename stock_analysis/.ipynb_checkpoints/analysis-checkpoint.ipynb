{
 "cells": [
  {
   "cell_type": "code",
   "execution_count": 16,
   "metadata": {
    "scrolled": true
   },
   "outputs": [],
   "source": [
    "from pandas_datareader import data\n",
    "import datetime\n",
    "from bokeh.plotting import show,figure, output_file\n",
    "from bokeh.embed import components\n",
    "from bokeh.resources import CDN\n",
    "\n",
    "start=datetime.datetime(2019,2,10)\n",
    "end=datetime.datetime(2019,5,10)\n",
    "df = data.DataReader(name=\"AMZN\",data_source=\"yahoo\",start=start,end=end)\n",
    "\n",
    "#date_increase=df.index[df.Close > df.Open]\n",
    "#date_decrease=df.index[df.Close < df.Open]\n",
    "def inc_dec(c,o):\n",
    "    if c > o:\n",
    "        value=\"increase\"\n",
    "    elif c < o:\n",
    "        value=\"decrease\"\n",
    "    else:\n",
    "        value=\"equal\"\n",
    "    return value\n",
    "df[\"status\"]=[inc_dec(c,o) for c,o in zip(df.Close,df.Open)]\n",
    "\n",
    "df[\"middle\"]=(df.Open+df.Close)/2\n",
    "df[\"height\"]=abs(df.Open-df.Close)\n",
    "\n",
    "p=figure(x_axis_type='datetime',height=500,width=1000,sizing_mode=\"scale_width\")\n",
    "p.title.text=\"CandleStick Chart\"\n",
    "p.grid.grid_line_alpha=0.3\n",
    "\n",
    "hours_12=12*60*60*1000\n",
    "\n",
    "p.segment(df.index,df.High,df.index,df.Low,line_color=\"black\")\n",
    "\n",
    "p.rect(df.index[df.status == \"increase\"],df.middle[df.status == \"increase\"],\n",
    "       hours_12,df.height[df.status==\"increase\"],fill_color=\"#90EE90\",line_color=\"black\")\n",
    "p.rect(df.index[df.status ==\"decrease\"],df.middle[df.status == \"decrease\"],\n",
    "       hours_12,df.height[df.status==\"decrease\"],fill_color=\"#CD5C5C\",line_color=\"black\")\n",
    "\n",
    "website, div1, = components(p)\n",
    "cdn_js=CDN.js_files\n",
    "#output_file(\"candle.html\")\n",
    "#show(p)"
   ]
  },
  {
   "cell_type": "code",
   "execution_count": 10,
   "metadata": {},
   "outputs": [
    {
     "data": {
      "text/plain": [
       "'https://cdn.pydata.org/bokeh/release/bokeh-1.3.4.min.js'"
      ]
     },
     "execution_count": 10,
     "metadata": {},
     "output_type": "execute_result"
    }
   ],
   "source": [
    "cdn_js[0]"
   ]
  },
  {
   "cell_type": "code",
   "execution_count": 17,
   "metadata": {},
   "outputs": [
    {
     "data": {
      "text/plain": [
       "'\\n<script type=\"text/javascript\">\\n  (function() {\\n    var fn = function() {\\n      Bokeh.safely(function() {\\n        (function(root) {\\n          function embed_document(root) {\\n            \\n          var docs_json = \\'{\"e5e8553c-d56e-4110-8e4a-4cc80556a83f\":{\"roots\":{\"references\":[{\"attributes\":{\"callback\":null,\"data\":{\"height\":{\"__ndarray__\":\"AAAAAEgBQUAAAAAAeJQ6QAAAAADAHiBAAAAAABDXJEAAAAAA4NEpQAAAAADgURJAAAAAAJiZMEAAAAAAEFcmQAAAAABAyjBAAAAAAABARkAAAAAAYGYQQAAAAACAPR9AAAAAAFC4IkAAAAAAOHM9QAAAAAAQriBAAAAAAIBUO0AAAAAAAAA3QAAAAABQeDBAAAAAAEBcC0AAAAAA8CgsQAAAAAAArgdAAAAAAGCPIEAAAAAASKEwQAAAAADgURlAAAAAAMD1BkAAAAAAUGEnQAAAAAD46D9AAAAAAPhIQEAAAAAASKE1QAAAAACA6ypAAAAAAPhIQEA=\",\"dtype\":\"float64\",\"shape\":[31]},\"x\":{\"__ndarray__\":\"AABADfCNdkIAAIDVMJB2QgAAwAYokXZCAADAnXGSdkIAAIADxJJ2QgAAQGkWk3ZCAAAAz2iTdkIAAEAAYJR2QgAAQJeplXZCAACAyKCWdkIAAEAu85Z2QgAAAJRFl3ZCAACAX+qXdkIAAMCQ4Zh2QgAAgPYzmXZCAABAXIaZdkIAAADC2Jl2QgAAAFkim3ZCAABAihmcdkIAAEAhY512QgAAAIe1nXZCAABAuKyedkIAAIDpo592QgAAALVIoHZCAADAseShdkIAAIAXN6J2QgAAAHolpHZCAADA33ekdkIAAAARb6V2QgAAQNmvp3ZCAACACqeodkI=\",\"dtype\":\"float64\",\"shape\":[31]},\"y\":{\"__ndarray__\":\"AAAAIAVUmUAAAADwKDmZQAAAAMAebplAAAAAkMJ8mUAAAABAioqZQAAAAPAolplAAAAAULj9mUAAAAAQV2qaQAAAAMCeMZlAAAAA4HrBmUAAAAAwMxyaQAAAAMCeW5pAAAAAULiumkAAAAAws/2aQAAAAFC4dptAAAAAgGvem0AAAABACj+cQAAAAKAZmJtAAAAAENeum0AAAACQmTycQAAAAAAAUpxAAAAAYI+knEAAAAAQLsacQAAAAPCo0JxAAAAAcL3NnEAAAACwxwSdQAAAAJBrPZ1AAAAAoPDNnUAAAACQQk+eQAAAAIDrjp5AAAAAYA85nkA=\",\"dtype\":\"float64\",\"shape\":[31]}},\"selected\":{\"id\":\"2411\",\"type\":\"Selection\"},\"selection_policy\":{\"id\":\"2410\",\"type\":\"UnionRenderers\"}},\"id\":\"2379\",\"type\":\"ColumnDataSource\"},{\"attributes\":{},\"id\":\"2391\",\"type\":\"DatetimeTickFormatter\"},{\"attributes\":{},\"id\":\"2360\",\"type\":\"PanTool\"},{\"attributes\":{\"text\":\"CandleStick Chart\"},\"id\":\"2373\",\"type\":\"Title\"},{\"attributes\":{\"x0\":{\"field\":\"x0\"},\"x1\":{\"field\":\"x1\"},\"y0\":{\"field\":\"y0\"},\"y1\":{\"field\":\"y1\"}},\"id\":\"2375\",\"type\":\"Segment\"},{\"attributes\":{\"callback\":null},\"id\":\"2344\",\"type\":\"DataRange1d\"},{\"attributes\":{\"fill_color\":{\"value\":\"#90EE90\"},\"height\":{\"field\":\"height\",\"units\":\"data\"},\"width\":{\"units\":\"data\",\"value\":43200000},\"x\":{\"field\":\"x\"},\"y\":{\"field\":\"y\"}},\"id\":\"2380\",\"type\":\"Rect\"},{\"attributes\":{},\"id\":\"2348\",\"type\":\"LinearScale\"},{\"attributes\":{},\"id\":\"2361\",\"type\":\"WheelZoomTool\"},{\"attributes\":{\"callback\":null,\"data\":{\"x0\":{\"__ndarray__\":\"AACAp52NdkIAAEAN8I12QgAAAHNCjnZCAADA2JSOdkIAAIA+5452QgAAgNUwkHZCAABAO4OQdkIAAACh1ZB2QgAAwAYokXZCAAAAOB+SdkIAAMCdcZJ2QgAAgAPEknZCAABAaRaTdkIAAADPaJN2QgAAQABglHZCAAAAZrKUdkIAAMDLBJV2QgAAgDFXlXZCAABAl6mVdkIAAIDIoJZ2QgAAQC7zlnZCAAAAlEWXdkIAAMD5l5d2QgAAgF/ql3ZCAADAkOGYdkIAAID2M5l2QgAAQFyGmXZCAAAAwtiZdkIAAMAnK5p2QgAAAFkim3ZCAADAvnSbdkIAAIAkx5t2QgAAQIoZnHZCAAAA8GucdkIAAEAhY512QgAAAIe1nXZCAADA7AeedkIAAIBSWp52QgAAQLisnnZCAACA6aOfdkIAAEBP9p92QgAAALVIoHZCAADAGpugdkIAAICA7aB2QgAAwLHkoXZCAACAFzeidkIAAEB9iaJ2QgAAAOPbonZCAAAAeiWkdkIAAMDfd6R2QgAAgEXKpHZCAABAqxyldkIAAAARb6V2QgAAQEJmpnZCAAAAqLimdkIAAMANC6d2QgAAgHNdp3ZCAABA2a+ndkIAAIAKp6h2QgAAQHD5qHZCAAAA1kupdkIAAMA7nql2QgAAgKHwqXZC\",\"dtype\":\"float64\",\"shape\":[63]},\"x1\":{\"__ndarray__\":\"AACAp52NdkIAAEAN8I12QgAAAHNCjnZCAADA2JSOdkIAAIA+5452QgAAgNUwkHZCAABAO4OQdkIAAACh1ZB2QgAAwAYokXZCAAAAOB+SdkIAAMCdcZJ2QgAAgAPEknZCAABAaRaTdkIAAADPaJN2QgAAQABglHZCAAAAZrKUdkIAAMDLBJV2QgAAgDFXlXZCAABAl6mVdkIAAIDIoJZ2QgAAQC7zlnZCAAAAlEWXdkIAAMD5l5d2QgAAgF/ql3ZCAADAkOGYdkIAAID2M5l2QgAAQFyGmXZCAAAAwtiZdkIAAMAnK5p2QgAAAFkim3ZCAADAvnSbdkIAAIAkx5t2QgAAQIoZnHZCAAAA8GucdkIAAEAhY512QgAAAIe1nXZCAADA7AeedkIAAIBSWp52QgAAQLisnnZCAACA6aOfdkIAAEBP9p92QgAAALVIoHZCAADAGpugdkIAAICA7aB2QgAAwLHkoXZCAACAFzeidkIAAEB9iaJ2QgAAAOPbonZCAAAAeiWkdkIAAMDfd6R2QgAAgEXKpHZCAABAqxyldkIAAAARb6V2QgAAQEJmpnZCAAAAqLimdkIAAMANC6d2QgAAgHNdp3ZCAABA2a+ndkIAAIAKp6h2QgAAQHD5qHZCAAAA1kupdkIAAMA7nql2QgAAgKHwqXZC\",\"dtype\":\"float64\",\"shape\":[63]},\"y0\":{\"__ndarray__\":\"AAAAACklmUAAAACgmZ2ZQAAAACCF4ZlAAAAAoJmXmUAAAADgo3OZQAAAAAAAiJlAAAAAYLiLmUAAAACAPV6ZQAAAAIDCi5lAAAAAYGbamUAAAADA9Z+ZQAAAAIA9p5lAAAAAgBTPmUAAAABACimaQAAAAGC4tZpAAAAAQDOvmkAAAAAAAIeaQAAAAAAAF5pAAAAAQOFamUAAAAAAKSGaQAAAAIAUUZpAAAAAAACQmkAAAAAAAJiaQAAAAEAz25pAAAAAAABYm0AAAADgo+CbQAAAAAAAHpxAAAAAAAB/nEAAAACA62ucQAAAAGC42ptAAAAAgBQ3nEAAAAAAAO6bQAAAAGC4x5tAAAAAoHADnEAAAAAgrl6cQAAAAAAAcJxAAAAAAACYnEAAAAAAAJOcQAAAAOBRupxAAAAAwMzonEAAAAAgXPScQAAAAAAA4JxAAAAAwMznnEAAAAAAAO6cQAAAAGBm25xAAAAAgBQ3nUAAAABA4VGdQAAAAKBHO51AAAAAIK6BnUAAAABACiWeQAAAAIDCJp5AAAAAwMwJnkAAAAAAAHyeQAAAACBckZ5AAAAAANc+nkAAAABgj16eQAAAAEAzBp5AAAAAoJmxnkAAAAAAAJyeQAAAAGBmdJ5AAAAA4Ho9nkAAAACgmdWdQAAAAAApv51A\",\"dtype\":\"float64\",\"shape\":[63]},\"y1\":{\"__ndarray__\":\"AAAAAADImEAAAAAghfuYQAAAAKBwlJlAAAAAgD0YmUAAAAAAABKZQAAAAIA9AplAAAAA4HoomUAAAADgowOZQAAAACCuVJlAAAAAYI95mUAAAAAghUCZQAAAAGBmPJlAAAAA4FGHmUAAAAAAAMyZQAAAAKBwKZpAAAAAQApkmkAAAADAHhGaQAAAAEAKUplAAAAAoEfKmEAAAABACmiZQAAAAIDr85lAAAAAYGY9mkAAAAAgXFGaQAAAACCFdJpAAAAAIIXCmkAAAABACmabQAAAAMAenJtAAAAAwB7tm0AAAACgcIybQAAAAAAATptAAAAAoHC1m0AAAABguEabQAAAAEDhZZtAAAAAIIXCm0AAAACA6xqcQAAAAOB6NJxAAAAA4HpGnEAAAADAzDCcQAAAAIDChJxAAAAAoHCEnEAAAADAHp+cQAAAAIA9k5xAAAAAgD3BnEAAAABAM8WcQAAAAKCZa5xAAAAAAADgnEAAAACAwhGdQAAAAIDrDZ1AAAAAYI/WnEAAAADgUYadQAAAAOCjqJ1AAAAAgD2xnUAAAAAAAKidQAAAACBcOJ5AAAAAwMzLnUAAAABAM9qdQAAAAOB6Z51AAAAAAABAnkAAAAAAANqdQAAAACCFvZ1AAAAAAADYnUAAAAAAAFCdQAAAAAAAAJ1A\",\"dtype\":\"float64\",\"shape\":[63]}},\"selected\":{\"id\":\"2409\",\"type\":\"Selection\"},\"selection_policy\":{\"id\":\"2408\",\"type\":\"UnionRenderers\"}},\"id\":\"2374\",\"type\":\"ColumnDataSource\"},{\"attributes\":{\"base\":24,\"mantissas\":[1,2,4,6,8,12],\"max_interval\":43200000.0,\"min_interval\":3600000.0,\"num_minor_ticks\":0},\"id\":\"2397\",\"type\":\"AdaptiveTicker\"},{\"attributes\":{},\"id\":\"2412\",\"type\":\"UnionRenderers\"},{\"attributes\":{\"overlay\":{\"id\":\"2407\",\"type\":\"BoxAnnotation\"}},\"id\":\"2362\",\"type\":\"BoxZoomTool\"},{\"attributes\":{\"days\":[1,8,15,22]},\"id\":\"2400\",\"type\":\"DaysTicker\"},{\"attributes\":{},\"id\":\"2413\",\"type\":\"Selection\"},{\"attributes\":{\"line_alpha\":{\"value\":0.1},\"line_color\":{\"value\":\"#1f77b4\"},\"x0\":{\"field\":\"x0\"},\"x1\":{\"field\":\"x1\"},\"y0\":{\"field\":\"y0\"},\"y1\":{\"field\":\"y1\"}},\"id\":\"2376\",\"type\":\"Segment\"},{\"attributes\":{},\"id\":\"2356\",\"type\":\"BasicTicker\"},{\"attributes\":{},\"id\":\"2363\",\"type\":\"SaveTool\"},{\"attributes\":{\"active_drag\":\"auto\",\"active_inspect\":\"auto\",\"active_multi\":null,\"active_scroll\":\"auto\",\"active_tap\":\"auto\",\"tools\":[{\"id\":\"2360\",\"type\":\"PanTool\"},{\"id\":\"2361\",\"type\":\"WheelZoomTool\"},{\"id\":\"2362\",\"type\":\"BoxZoomTool\"},{\"id\":\"2363\",\"type\":\"SaveTool\"},{\"id\":\"2364\",\"type\":\"ResetTool\"},{\"id\":\"2365\",\"type\":\"HelpTool\"}]},\"id\":\"2366\",\"type\":\"Toolbar\"},{\"attributes\":{},\"id\":\"2364\",\"type\":\"ResetTool\"},{\"attributes\":{\"callback\":null},\"id\":\"2342\",\"type\":\"DataRange1d\"},{\"attributes\":{\"callback\":null,\"data\":{\"height\":{\"__ndarray__\":\"AAAAAMD1I0AAAAAAAAAcQAAAAACAmf0/AAAAAPjoM0AAAAAAoJkfQAAAAAAAPto/AAAAAGDmIEAAAAAAMAolQAAAAAAgBTtAAAAAAMS1REAAAAAAgOsTQAAAAAA0s0ZAAAAAAOB6IkAAAAAAGG4yQAAAAADgURdAAAAAAIAUGEAAAAAAAKT8PwAAAADQTCNAAAAAACCFEkAAAAAAIFwVQAAAAAAQVyBAAAAAAIBmHEAAAAAAAEA3QAAAAAAAgC1AAAAAANAjJUAAAAAAwKMMQAAAAADokTVAAAAAACAFKUAAAAAAcP0yQAAAAACAmfE/AAAAAACkwD8AAAAAQAogQA==\",\"dtype\":\"float64\",\"shape\":[32]},\"x\":{\"__ndarray__\":\"AACAp52NdkIAAABzQo52QgAAwNiUjnZCAACAPueOdkIAAEA7g5B2QgAAAKHVkHZCAAAAOB+SdkIAAABmspR2QgAAwMsElXZCAACAMVeVdkIAAMD5l5d2QgAAwCcrmnZCAADAvnSbdkIAAIAkx5t2QgAAAPBrnHZCAADA7AeedkIAAIBSWp52QgAAQE/2n3ZCAADAGpugdkIAAICA7aB2QgAAQH2JonZCAAAA49uidkIAAIBFyqR2QgAAQKscpXZCAABAQmamdkIAAACouKZ2QgAAwA0Lp3ZCAACAc12ndkIAAEBw+ah2QgAAANZLqXZCAADAO56pdkIAAICh8Kl2Qg==\",\"dtype\":\"float64\",\"shape\":[32]},\"y\":{\"__ndarray__\":\"AAAAwPXvmEAAAAAAAK6ZQAAAANBMXplAAAAAsJ5HmUAAAAAwM2iZQAAAAHCUTplAAAAAYOaUmUAAAACQwoaaQAAAAADXSZpAAAAA0KO6mUAAAAAA12KaQAAAAFDh7ZtAAAAAIIXxm0AAAADwqLubQAAAAPCo3ptAAAAAANd+nEAAAAAgBW+cQAAAAPCowpxAAAAAMIrZnEAAAACQ69acQAAAALCeM51AAAAAwPUknUAAAAAAgOWdQAAAAACA1p1AAAAAMNxenkAAAABwPSGeQAAAAFA4CZ5AAAAAwEzMnUAAAADg+imeQAAAALBH+Z1AAAAAcL2vnUAAAADA9ZedQA==\",\"dtype\":\"float64\",\"shape\":[32]}},\"selected\":{\"id\":\"2413\",\"type\":\"Selection\"},\"selection_policy\":{\"id\":\"2412\",\"type\":\"UnionRenderers\"}},\"id\":\"2384\",\"type\":\"ColumnDataSource\"},{\"attributes\":{\"below\":[{\"id\":\"2350\",\"type\":\"DatetimeAxis\"}],\"center\":[{\"id\":\"2354\",\"type\":\"Grid\"},{\"id\":\"2359\",\"type\":\"Grid\"}],\"left\":[{\"id\":\"2355\",\"type\":\"LinearAxis\"}],\"plot_height\":500,\"plot_width\":1000,\"renderers\":[{\"id\":\"2377\",\"type\":\"GlyphRenderer\"},{\"id\":\"2382\",\"type\":\"GlyphRenderer\"},{\"id\":\"2387\",\"type\":\"GlyphRenderer\"}],\"sizing_mode\":\"scale_width\",\"title\":{\"id\":\"2373\",\"type\":\"Title\"},\"toolbar\":{\"id\":\"2366\",\"type\":\"Toolbar\"},\"x_range\":{\"id\":\"2342\",\"type\":\"DataRange1d\"},\"x_scale\":{\"id\":\"2346\",\"type\":\"LinearScale\"},\"y_range\":{\"id\":\"2344\",\"type\":\"DataRange1d\"},\"y_scale\":{\"id\":\"2348\",\"type\":\"LinearScale\"}},\"id\":\"2341\",\"subtype\":\"Figure\",\"type\":\"Plot\"},{\"attributes\":{},\"id\":\"2365\",\"type\":\"HelpTool\"},{\"attributes\":{\"days\":[1,2,3,4,5,6,7,8,9,10,11,12,13,14,15,16,17,18,19,20,21,22,23,24,25,26,27,28,29,30,31]},\"id\":\"2398\",\"type\":\"DaysTicker\"},{\"attributes\":{\"days\":[1,15]},\"id\":\"2401\",\"type\":\"DaysTicker\"},{\"attributes\":{\"months\":[0,1,2,3,4,5,6,7,8,9,10,11]},\"id\":\"2402\",\"type\":\"MonthsTicker\"},{\"attributes\":{\"grid_line_alpha\":0.3,\"ticker\":{\"id\":\"2351\",\"type\":\"DatetimeTicker\"}},\"id\":\"2354\",\"type\":\"Grid\"},{\"attributes\":{\"fill_alpha\":{\"value\":0.1},\"fill_color\":{\"value\":\"#1f77b4\"},\"height\":{\"field\":\"height\",\"units\":\"data\"},\"line_alpha\":{\"value\":0.1},\"line_color\":{\"value\":\"#1f77b4\"},\"width\":{\"units\":\"data\",\"value\":43200000},\"x\":{\"field\":\"x\"},\"y\":{\"field\":\"y\"}},\"id\":\"2386\",\"type\":\"Rect\"},{\"attributes\":{\"days\":[1,4,7,10,13,16,19,22,25,28]},\"id\":\"2399\",\"type\":\"DaysTicker\"},{\"attributes\":{\"months\":[0,4,8]},\"id\":\"2404\",\"type\":\"MonthsTicker\"},{\"attributes\":{\"source\":{\"id\":\"2379\",\"type\":\"ColumnDataSource\"}},\"id\":\"2383\",\"type\":\"CDSView\"},{\"attributes\":{},\"id\":\"2410\",\"type\":\"UnionRenderers\"},{\"attributes\":{},\"id\":\"2411\",\"type\":\"Selection\"},{\"attributes\":{\"formatter\":{\"id\":\"2391\",\"type\":\"DatetimeTickFormatter\"},\"ticker\":{\"id\":\"2351\",\"type\":\"DatetimeTicker\"}},\"id\":\"2350\",\"type\":\"DatetimeAxis\"},{\"attributes\":{},\"id\":\"2408\",\"type\":\"UnionRenderers\"},{\"attributes\":{\"data_source\":{\"id\":\"2379\",\"type\":\"ColumnDataSource\"},\"glyph\":{\"id\":\"2380\",\"type\":\"Rect\"},\"hover_glyph\":null,\"muted_glyph\":null,\"nonselection_glyph\":{\"id\":\"2381\",\"type\":\"Rect\"},\"selection_glyph\":null,\"view\":{\"id\":\"2383\",\"type\":\"CDSView\"}},\"id\":\"2382\",\"type\":\"GlyphRenderer\"},{\"attributes\":{},\"id\":\"2409\",\"type\":\"Selection\"},{\"attributes\":{\"formatter\":{\"id\":\"2393\",\"type\":\"BasicTickFormatter\"},\"ticker\":{\"id\":\"2356\",\"type\":\"BasicTicker\"}},\"id\":\"2355\",\"type\":\"LinearAxis\"},{\"attributes\":{\"dimension\":1,\"grid_line_alpha\":0.3,\"ticker\":{\"id\":\"2356\",\"type\":\"BasicTicker\"}},\"id\":\"2359\",\"type\":\"Grid\"},{\"attributes\":{\"source\":{\"id\":\"2384\",\"type\":\"ColumnDataSource\"}},\"id\":\"2388\",\"type\":\"CDSView\"},{\"attributes\":{\"fill_alpha\":{\"value\":0.1},\"fill_color\":{\"value\":\"#1f77b4\"},\"height\":{\"field\":\"height\",\"units\":\"data\"},\"line_alpha\":{\"value\":0.1},\"line_color\":{\"value\":\"#1f77b4\"},\"width\":{\"units\":\"data\",\"value\":43200000},\"x\":{\"field\":\"x\"},\"y\":{\"field\":\"y\"}},\"id\":\"2381\",\"type\":\"Rect\"},{\"attributes\":{\"months\":[0,6]},\"id\":\"2405\",\"type\":\"MonthsTicker\"},{\"attributes\":{\"source\":{\"id\":\"2374\",\"type\":\"ColumnDataSource\"}},\"id\":\"2378\",\"type\":\"CDSView\"},{\"attributes\":{},\"id\":\"2346\",\"type\":\"LinearScale\"},{\"attributes\":{},\"id\":\"2393\",\"type\":\"BasicTickFormatter\"},{\"attributes\":{\"bottom_units\":\"screen\",\"fill_alpha\":{\"value\":0.5},\"fill_color\":{\"value\":\"lightgrey\"},\"left_units\":\"screen\",\"level\":\"overlay\",\"line_alpha\":{\"value\":1.0},\"line_color\":{\"value\":\"black\"},\"line_dash\":[4,4],\"line_width\":{\"value\":2},\"render_mode\":\"css\",\"right_units\":\"screen\",\"top_units\":\"screen\"},\"id\":\"2407\",\"type\":\"BoxAnnotation\"},{\"attributes\":{\"data_source\":{\"id\":\"2374\",\"type\":\"ColumnDataSource\"},\"glyph\":{\"id\":\"2375\",\"type\":\"Segment\"},\"hover_glyph\":null,\"muted_glyph\":null,\"nonselection_glyph\":{\"id\":\"2376\",\"type\":\"Segment\"},\"selection_glyph\":null,\"view\":{\"id\":\"2378\",\"type\":\"CDSView\"}},\"id\":\"2377\",\"type\":\"GlyphRenderer\"},{\"attributes\":{\"data_source\":{\"id\":\"2384\",\"type\":\"ColumnDataSource\"},\"glyph\":{\"id\":\"2385\",\"type\":\"Rect\"},\"hover_glyph\":null,\"muted_glyph\":null,\"nonselection_glyph\":{\"id\":\"2386\",\"type\":\"Rect\"},\"selection_glyph\":null,\"view\":{\"id\":\"2388\",\"type\":\"CDSView\"}},\"id\":\"2387\",\"type\":\"GlyphRenderer\"},{\"attributes\":{},\"id\":\"2406\",\"type\":\"YearsTicker\"},{\"attributes\":{\"months\":[0,2,4,6,8,10]},\"id\":\"2403\",\"type\":\"MonthsTicker\"},{\"attributes\":{\"num_minor_ticks\":5,\"tickers\":[{\"id\":\"2395\",\"type\":\"AdaptiveTicker\"},{\"id\":\"2396\",\"type\":\"AdaptiveTicker\"},{\"id\":\"2397\",\"type\":\"AdaptiveTicker\"},{\"id\":\"2398\",\"type\":\"DaysTicker\"},{\"id\":\"2399\",\"type\":\"DaysTicker\"},{\"id\":\"2400\",\"type\":\"DaysTicker\"},{\"id\":\"2401\",\"type\":\"DaysTicker\"},{\"id\":\"2402\",\"type\":\"MonthsTicker\"},{\"id\":\"2403\",\"type\":\"MonthsTicker\"},{\"id\":\"2404\",\"type\":\"MonthsTicker\"},{\"id\":\"2405\",\"type\":\"MonthsTicker\"},{\"id\":\"2406\",\"type\":\"YearsTicker\"}]},\"id\":\"2351\",\"type\":\"DatetimeTicker\"},{\"attributes\":{\"base\":60,\"mantissas\":[1,2,5,10,15,20,30],\"max_interval\":1800000.0,\"min_interval\":1000.0,\"num_minor_ticks\":0},\"id\":\"2396\",\"type\":\"AdaptiveTicker\"},{\"attributes\":{\"fill_color\":{\"value\":\"#CD5C5C\"},\"height\":{\"field\":\"height\",\"units\":\"data\"},\"width\":{\"units\":\"data\",\"value\":43200000},\"x\":{\"field\":\"x\"},\"y\":{\"field\":\"y\"}},\"id\":\"2385\",\"type\":\"Rect\"},{\"attributes\":{\"mantissas\":[1,2,5],\"max_interval\":500.0,\"num_minor_ticks\":0},\"id\":\"2395\",\"type\":\"AdaptiveTicker\"}],\"root_ids\":[\"2341\"]},\"title\":\"Bokeh Application\",\"version\":\"1.3.4\"}}\\';\\n          var render_items = [{\"docid\":\"e5e8553c-d56e-4110-8e4a-4cc80556a83f\",\"roots\":{\"2341\":\"5fa3232b-8f6a-4c2a-8166-e3a03b8e5978\"}}];\\n          root.Bokeh.embed.embed_items(docs_json, render_items);\\n        \\n          }\\n          if (root.Bokeh !== undefined) {\\n            embed_document(root);\\n          } else {\\n            var attempts = 0;\\n            var timer = setInterval(function(root) {\\n              if (root.Bokeh !== undefined) {\\n                embed_document(root);\\n                clearInterval(timer);\\n              }\\n              attempts++;\\n              if (attempts > 100) {\\n                console.log(\"Bokeh: ERROR: Unable to run BokehJS code because BokehJS library is missing\");\\n                clearInterval(timer);\\n              }\\n            }, 10, root)\\n          }\\n        })(window);\\n      });\\n    };\\n    if (document.readyState != \"loading\") fn();\\n    else document.addEventListener(\"DOMContentLoaded\", fn);\\n  })();\\n</script>'"
      ]
     },
     "execution_count": 17,
     "metadata": {},
     "output_type": "execute_result"
    }
   ],
   "source": [
    "website"
   ]
  },
  {
   "cell_type": "code",
   "execution_count": null,
   "metadata": {},
   "outputs": [],
   "source": []
  }
 ],
 "metadata": {
  "kernelspec": {
   "display_name": "Python 3",
   "language": "python",
   "name": "python3"
  },
  "language_info": {
   "codemirror_mode": {
    "name": "ipython",
    "version": 3
   },
   "file_extension": ".py",
   "mimetype": "text/x-python",
   "name": "python",
   "nbconvert_exporter": "python",
   "pygments_lexer": "ipython3",
   "version": "3.7.4"
  }
 },
 "nbformat": 4,
 "nbformat_minor": 4
}
