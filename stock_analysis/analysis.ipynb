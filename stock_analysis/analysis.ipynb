{
 "cells": [
  {
   "cell_type": "code",
   "execution_count": 2,
   "metadata": {
    "scrolled": true
   },
   "outputs": [],
   "source": [
    "from pandas_datareader import data\n",
    "import datetime\n",
    "from bokeh.plotting import show,figure, output_file\n",
    "from bokeh.embed import components\n",
    "from bokeh.resources import CDN\n",
    "\n",
    "start=datetime.datetime(2019,2,10)\n",
    "end=datetime.datetime(2019,5,10)\n",
    "df = data.DataReader(name=\"AMZN\",data_source=\"yahoo\",start=start,end=end)\n",
    "\n",
    "#date_increase=df.index[df.Close > df.Open]\n",
    "#date_decrease=df.index[df.Close < df.Open]\n",
    "def inc_dec(c,o):\n",
    "    if c > o:\n",
    "        value=\"increase\"\n",
    "    elif c < o:\n",
    "        value=\"decrease\"\n",
    "    else:\n",
    "        value=\"equal\"\n",
    "    return value\n",
    "df[\"status\"]=[inc_dec(c,o) for c,o in zip(df.Close,df.Open)]\n",
    "\n",
    "df[\"middle\"]=(df.Open+df.Close)/2\n",
    "df[\"height\"]=abs(df.Open-df.Close)\n",
    "\n",
    "p=figure(x_axis_type='datetime',height=500,width=1000,sizing_mode=\"scale_width\")\n",
    "p.title.text=\"CandleStick Chart\"\n",
    "p.grid.grid_line_alpha=0.3\n",
    "\n",
    "hours_12=12*60*60*1000\n",
    "\n",
    "p.segment(df.index,df.High,df.index,df.Low,line_color=\"black\")\n",
    "\n",
    "p.rect(df.index[df.status == \"increase\"],df.middle[df.status == \"increase\"],\n",
    "       hours_12,df.height[df.status==\"increase\"],fill_color=\"#90EE90\",line_color=\"black\")\n",
    "p.rect(df.index[df.status ==\"decrease\"],df.middle[df.status == \"decrease\"],\n",
    "       hours_12,df.height[df.status==\"decrease\"],fill_color=\"#CD5C5C\",line_color=\"black\")\n",
    "\n",
    "script1, div1, = components(p)\n",
    "cdn_js=CDN.js_files\n",
    "#output_file(\"candle.html\")\n",
    "#show(p)"
   ]
  },
  {
   "cell_type": "code",
   "execution_count": 3,
   "metadata": {},
   "outputs": [
    {
     "data": {
      "text/plain": [
       "'https://cdn.pydata.org/bokeh/release/bokeh-1.3.4.min.js'"
      ]
     },
     "execution_count": 3,
     "metadata": {},
     "output_type": "execute_result"
    }
   ],
   "source": [
    "cdn_js[0]"
   ]
  },
  {
   "cell_type": "code",
   "execution_count": 4,
   "metadata": {},
   "outputs": [
    {
     "data": {
      "text/plain": [
       "'\\n<div class=\"bk-root\" id=\"9b927318-9642-4cf2-aaf3-cb0643e27316\" data-root-id=\"1001\"></div>'"
      ]
     },
     "execution_count": 4,
     "metadata": {},
     "output_type": "execute_result"
    }
   ],
   "source": [
    "div1"
   ]
  },
  {
   "cell_type": "code",
   "execution_count": null,
   "metadata": {},
   "outputs": [],
   "source": []
  }
 ],
 "metadata": {
  "kernelspec": {
   "display_name": "Python 3",
   "language": "python",
   "name": "python3"
  },
  "language_info": {
   "codemirror_mode": {
    "name": "ipython",
    "version": 3
   },
   "file_extension": ".py",
   "mimetype": "text/x-python",
   "name": "python",
   "nbconvert_exporter": "python",
   "pygments_lexer": "ipython3",
   "version": "3.7.4"
  }
 },
 "nbformat": 4,
 "nbformat_minor": 4
}
